{
 "cells": [
  {
   "cell_type": "code",
   "execution_count": 9,
   "metadata": {},
   "outputs": [],
   "source": [
    "import spacy"
   ]
  },
  {
   "cell_type": "code",
   "execution_count": 10,
   "metadata": {},
   "outputs": [],
   "source": [
    "nlp=spacy.load('zh_core_web_sm')"
   ]
  },
  {
   "cell_type": "code",
   "execution_count": 11,
   "metadata": {},
   "outputs": [],
   "source": [
    "doc=nlp('习近平总书记12日下午在江苏考察调研。他来到南通市五山地区滨江片区，沿江边步行察看滨江生态环境保护情况。江水辽阔，波光粼粼，水运繁忙。习近平深有感慨地对在场的干部群众说，我在1978年来过五山地区，对壮阔的长江印象特别深刻。这次我来调研长江经济带和长三角一体化发展，专门来看看这里的环境整治情况，过去脏乱差的地方已经变成现在公园的绿化带，确实是沧桑巨变啊！这样的幸福生活是你们亲手建设出来的，是大家一起奋斗出来的。')"
   ]
  },
  {
   "cell_type": "code",
   "execution_count": 12,
   "metadata": {},
   "outputs": [
    {
     "data": {
      "text/plain": [
       "习近平总书记12日下午在江苏考察调研。他来到南通市五山地区滨江片区，沿江边步行察看滨江生态环境保护情况。江水辽阔，波光粼粼，水运繁忙。习近平深有感慨地对在场的干部群众说，我在1978年来过五山地区，对壮阔的长江印象特别深刻。这次我来调研长江经济带和长三角一体化发展，专门来看看这里的环境整治情况，过去脏乱差的地方已经变成现在公园的绿化带，确实是沧桑巨变啊！这样的幸福生活是你们亲手建设出来的，是大家一起奋斗出来的。"
      ]
     },
     "execution_count": 12,
     "metadata": {},
     "output_type": "execute_result"
    }
   ],
   "source": [
    "doc"
   ]
  },
  {
   "cell_type": "code",
   "execution_count": 13,
   "metadata": {},
   "outputs": [
    {
     "name": "stdout",
     "output_type": "stream",
     "text": [
      "习近平 习近平 PROPN NR compound:nn xxx True False\n",
      "总书记 总书记 NOUN NN nsubj xxx True False\n",
      "12日 12日 NOUN NT compound:nn ddx False False\n",
      "下午 下午 NOUN NT nmod:tmod xx True False\n",
      "在 在 ADP P case x True True\n",
      "江苏 江苏 PROPN NR nmod:prep xx True False\n",
      "考察 考察 VERB VV ROOT xx True False\n",
      "调研 调研 NOUN NN dobj xx True False\n",
      "。 。 PUNCT PU punct 。 False True\n",
      "他 他 PRON PN nsubj x True True\n",
      "来到 来到 VERB VV ROOT xx True False\n",
      "南通市 南通市 PROPN NR compound:nn xxx True False\n",
      "五山 五山 NUM CD dep xx True False\n",
      "地区 地区 NOUN NN dobj xx True False\n",
      "滨 滨 VERB VV conj x True False\n",
      "江片区 江片区 PROPN NR dobj xxx True False\n",
      "， ， PUNCT PU punct ， False True\n",
      "沿江 沿江 NOUN NN advmod:loc xx True False\n",
      "边 边 PART LC case x True True\n",
      "步行 步行 VERB VV advmod xx True False\n",
      "察看 察看 VERB VV conj xx True False\n",
      "滨江 滨江 NOUN NN compound:nn xx True False\n",
      "生态 生态 NOUN NN compound:nn xx True False\n",
      "环境 环境 NOUN NN compound:nn xx True False\n",
      "保护 保护 NOUN NN compound:nn xx True False\n",
      "情况 情况 NOUN NN dobj xx True False\n",
      "。 。 PUNCT PU punct 。 False True\n",
      "江水 江水 PROPN NR nsubj xx True False\n",
      "辽阔 辽阔 VERB VA ROOT xx True False\n",
      "， ， PUNCT PU punct ， False True\n",
      "波光粼粼 波光粼粼 VERB VV conj xxxx True False\n",
      "， ， PUNCT PU punct ， False True\n",
      "水运 水运 NOUN NN nsubj xx True False\n",
      "繁忙 繁忙 VERB VA conj xx True False\n",
      "。 。 PUNCT PU punct 。 False True\n",
      "习近 习近 NOUN NN nsubj xx True False\n",
      "平深 平深 NOUN NN acl xx True False\n",
      "有 有 VERB VE acl x True True\n",
      "感慨 感慨 NOUN NN dobj xx True False\n",
      "地 地 PART DEV mark x True True\n",
      "对 对 ADP P case x True True\n",
      "在场 在场 VERB VV acl xx True False\n",
      "的 的 PART DEC mark x True True\n",
      "干部 干部 NOUN NN compound:nn xx True False\n",
      "群众 群众 NOUN NN nsubj xx True False\n",
      "说 说 VERB VV ROOT x True False\n",
      "， ， PUNCT PU punct ， False True\n",
      "我 我 PRON PN nsubj x True True\n",
      "在 在 ADP P case x True True\n",
      "1978年 1978年 NOUN NT nmod:prep ddddx False False\n",
      "来 来 VERB VV ccomp x True True\n",
      "过 过 PART AS aux:asp x True True\n",
      "五山 五山 NUM CD nmod:assmod xx True False\n",
      "地区 地区 NOUN NN dobj xx True False\n",
      "， ， PUNCT PU punct ， False True\n",
      "对 对 ADP P case x True True\n",
      "壮阔 壮阔 NOUN NN nmod:assmod xx True False\n",
      "的 的 PART DEG case x True True\n",
      "长江 长江 PROPN NR nmod:assmod xx True False\n",
      "印象 印象 NOUN NN nmod:prep xx True False\n",
      "特别 特别 ADV AD advmod xx True False\n",
      "深刻 深刻 VERB VA conj xx True False\n",
      "。 。 PUNCT PU punct 。 False True\n",
      "这次 这次 ADV AD advmod xx True True\n",
      "我 我 PRON PN nsubj x True True\n",
      "来 来 VERB VV xcomp x True True\n",
      "调研 调研 VERB VV ROOT xx True False\n",
      "长江 长江 PROPN NR nmod:assmod xx True False\n",
      "经济带 经济带 NOUN NN conj xxx True False\n",
      "和 和 CCONJ CC cc x True True\n",
      "长三角 长三角 PROPN NR compound:nn xxx True False\n",
      "一体化 一体化 NOUN NN compound:nn xxx True False\n",
      "发展 发展 NOUN NN dobj xx True False\n",
      "， ， PUNCT PU punct ， False True\n",
      "专门 专门 ADV AD advmod xx True True\n",
      "来 来 VERB VV xcomp x True True\n",
      "看看 看看 VERB VV conj xx True True\n",
      "这里 这里 PRON PN nmod:assmod xx True True\n",
      "的 的 PART DEG case x True True\n",
      "环境 环境 NOUN NN compound:nn xx True False\n",
      "整治 整治 NOUN NN compound:nn xx True False\n",
      "情况 情况 NOUN NN dobj xx True False\n",
      "， ， PUNCT PU punct ， False True\n",
      "过去 过去 NOUN NT nmod:tmod xx True True\n",
      "脏乱差 脏乱差 NOUN NN nmod:assmod xxx True False\n",
      "的 的 PART DEG case x True True\n",
      "地方 地方 NOUN NN nsubj xx True False\n",
      "已经 已经 ADV AD advmod xx True True\n",
      "变成 变成 VERB VV conj xx True True\n",
      "现在 现在 NOUN NT dep xx True True\n",
      "公园 公园 NOUN NN nmod:assmod xx True False\n",
      "的 的 PART DEG case x True True\n",
      "绿化带 绿化带 NOUN NN dobj xxx True False\n",
      "， ， PUNCT PU punct ， False True\n",
      "确实 确实 ADV AD advmod xx True False\n",
      "是 是 VERB VC cop x True True\n",
      "沧桑 沧桑 NOUN NN compound:nn xx True False\n",
      "巨变 巨变 NOUN NN conj xx True False\n",
      "啊 啊 PART SP discourse x True True\n",
      "！ ！ PUNCT PU punct ！ False True\n",
      "这样 这样 ADJ JJ amod xx True True\n",
      "的 的 PART DEG case x True True\n",
      "幸福 幸福 ADJ JJ compound:nn xx True False\n",
      "生活 生活 NOUN NN nsubj xx True False\n",
      "是 是 VERB VC cop x True True\n",
      "你们 你们 PRON PN nsubj xx True True\n",
      "亲手 亲手 ADV AD advmod xx True True\n",
      "建设 建设 VERB VV ROOT xx True False\n",
      "出来 出来 VERB VV advmod:rcomp xx True True\n",
      "的 的 PART DEC discourse x True True\n",
      "， ， PUNCT PU punct ， False True\n",
      "是 是 VERB VC cop x True True\n",
      "大家 大家 PRON PN nsubj xx True True\n",
      "一起 一起 ADV AD advmod xx True True\n",
      "奋斗 奋斗 VERB VV conj xx True False\n",
      "出来 出来 VERB VV advmod:rcomp xx True True\n",
      "的 的 PART SP discourse x True True\n",
      "。 。 PUNCT PU punct 。 False True\n"
     ]
    }
   ],
   "source": [
    "for token in doc:\n",
    "    print(token.text, token.lemma_, token.pos_, token.tag_, token.dep_,\n",
    "            token.shape_, token.is_alpha, token.is_stop)"
   ]
  },
  {
   "cell_type": "code",
   "execution_count": 14,
   "metadata": {},
   "outputs": [],
   "source": [
    "from spacy import displacy"
   ]
  },
  {
   "cell_type": "code",
   "execution_count": 16,
   "metadata": {},
   "outputs": [
    {
     "data": {
      "text/html": [
       "<span class=\"tex2jax_ignore\"><div class=\"entities\" style=\"line-height: 2.5; direction: ltr\">习近平总书记\n",
       "<mark class=\"entity\" style=\"background: #bfe1d9; padding: 0.45em 0.6em; margin: 0 0.25em; line-height: 1; border-radius: 0.35em;\">\n",
       "    12日下午\n",
       "    <span style=\"font-size: 0.8em; font-weight: bold; line-height: 1; border-radius: 0.35em; text-transform: uppercase; vertical-align: middle; margin-left: 0.5rem\">TIME</span>\n",
       "</mark>\n",
       "在\n",
       "<mark class=\"entity\" style=\"background: #feca74; padding: 0.45em 0.6em; margin: 0 0.25em; line-height: 1; border-radius: 0.35em;\">\n",
       "    江苏\n",
       "    <span style=\"font-size: 0.8em; font-weight: bold; line-height: 1; border-radius: 0.35em; text-transform: uppercase; vertical-align: middle; margin-left: 0.5rem\">GPE</span>\n",
       "</mark>\n",
       "考察调研。他来到\n",
       "<mark class=\"entity\" style=\"background: #ff9561; padding: 0.45em 0.6em; margin: 0 0.25em; line-height: 1; border-radius: 0.35em;\">\n",
       "    南通市\n",
       "    <span style=\"font-size: 0.8em; font-weight: bold; line-height: 1; border-radius: 0.35em; text-transform: uppercase; vertical-align: middle; margin-left: 0.5rem\">LOC</span>\n",
       "</mark>\n",
       "五山地区滨\n",
       "<mark class=\"entity\" style=\"background: #feca74; padding: 0.45em 0.6em; margin: 0 0.25em; line-height: 1; border-radius: 0.35em;\">\n",
       "    江片区\n",
       "    <span style=\"font-size: 0.8em; font-weight: bold; line-height: 1; border-radius: 0.35em; text-transform: uppercase; vertical-align: middle; margin-left: 0.5rem\">GPE</span>\n",
       "</mark>\n",
       "，沿江边步行察看滨江生态环境保护情况。\n",
       "<mark class=\"entity\" style=\"background: #aa9cfc; padding: 0.45em 0.6em; margin: 0 0.25em; line-height: 1; border-radius: 0.35em;\">\n",
       "    江水\n",
       "    <span style=\"font-size: 0.8em; font-weight: bold; line-height: 1; border-radius: 0.35em; text-transform: uppercase; vertical-align: middle; margin-left: 0.5rem\">PERSON</span>\n",
       "</mark>\n",
       "辽阔，波光粼粼，水运繁忙。习近平深有感慨地对在场的干部群众说，我在\n",
       "<mark class=\"entity\" style=\"background: #bfe1d9; padding: 0.45em 0.6em; margin: 0 0.25em; line-height: 1; border-radius: 0.35em;\">\n",
       "    1978年\n",
       "    <span style=\"font-size: 0.8em; font-weight: bold; line-height: 1; border-radius: 0.35em; text-transform: uppercase; vertical-align: middle; margin-left: 0.5rem\">DATE</span>\n",
       "</mark>\n",
       "来过五山地区，对壮阔的\n",
       "<mark class=\"entity\" style=\"background: #ff9561; padding: 0.45em 0.6em; margin: 0 0.25em; line-height: 1; border-radius: 0.35em;\">\n",
       "    长江\n",
       "    <span style=\"font-size: 0.8em; font-weight: bold; line-height: 1; border-radius: 0.35em; text-transform: uppercase; vertical-align: middle; margin-left: 0.5rem\">LOC</span>\n",
       "</mark>\n",
       "印象特别深刻。这次我来调研\n",
       "<mark class=\"entity\" style=\"background: #ff9561; padding: 0.45em 0.6em; margin: 0 0.25em; line-height: 1; border-radius: 0.35em;\">\n",
       "    长江\n",
       "    <span style=\"font-size: 0.8em; font-weight: bold; line-height: 1; border-radius: 0.35em; text-transform: uppercase; vertical-align: middle; margin-left: 0.5rem\">LOC</span>\n",
       "</mark>\n",
       "\n",
       "<mark class=\"entity\" style=\"background: #ff9561; padding: 0.45em 0.6em; margin: 0 0.25em; line-height: 1; border-radius: 0.35em;\">\n",
       "    经济带\n",
       "    <span style=\"font-size: 0.8em; font-weight: bold; line-height: 1; border-radius: 0.35em; text-transform: uppercase; vertical-align: middle; margin-left: 0.5rem\">LOC</span>\n",
       "</mark>\n",
       "和\n",
       "<mark class=\"entity\" style=\"background: #ff9561; padding: 0.45em 0.6em; margin: 0 0.25em; line-height: 1; border-radius: 0.35em;\">\n",
       "    长三角\n",
       "    <span style=\"font-size: 0.8em; font-weight: bold; line-height: 1; border-radius: 0.35em; text-transform: uppercase; vertical-align: middle; margin-left: 0.5rem\">LOC</span>\n",
       "</mark>\n",
       "一体化发展，专门来看看这里的环境整治情况，过去脏乱差的地方已经变成现在公园的绿化带，确实是沧桑巨变啊！这样的幸福生活是你们亲手建设出来的，是大家一起奋斗出来的。</div></span>"
      ],
      "text/plain": [
       "<IPython.core.display.HTML object>"
      ]
     },
     "metadata": {},
     "output_type": "display_data"
    }
   ],
   "source": [
    "displacy.render(doc,style='ent')"
   ]
  },
  {
   "cell_type": "code",
   "execution_count": null,
   "metadata": {},
   "outputs": [],
   "source": []
  }
 ],
 "metadata": {
  "kernelspec": {
   "display_name": "Python 3",
   "language": "python",
   "name": "python3"
  },
  "language_info": {
   "codemirror_mode": {
    "name": "ipython",
    "version": 3
   },
   "file_extension": ".py",
   "mimetype": "text/x-python",
   "name": "python",
   "nbconvert_exporter": "python",
   "pygments_lexer": "ipython3",
   "version": "3.6.8"
  }
 },
 "nbformat": 4,
 "nbformat_minor": 4
}
